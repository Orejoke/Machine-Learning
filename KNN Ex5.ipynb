{
 "cells": [
  {
   "cell_type": "code",
   "execution_count": 6,
   "id": "b93dfad2",
   "metadata": {},
   "outputs": [
    {
     "name": "stdout",
     "output_type": "stream",
     "text": [
      "The vector 1, 1, 1 has tag a\n",
      "The vector 1, 2, 0 has tag b\n"
     ]
    }
   ],
   "source": [
    "import math\n",
    "import csv\n",
    "point = [1, 0, 0, '?'] #(an unknown tag)\n",
    "data1 = [1, 1, 1, 'a']\n",
    "data2 = [1, 2, 0, 'b']\n",
    "print(\"The vector {}, {}, {} has tag {}\".format(data1[0], data1[1], data1[2], data1[3]))\n",
    "print(\"The vector {}, {}, {} has tag {}\".format(data2[0], data2[1], data2[2], data2[3]))"
   ]
  },
  {
   "cell_type": "code",
   "execution_count": 10,
   "id": "50101593",
   "metadata": {},
   "outputs": [
    {
     "name": "stdout",
     "output_type": "stream",
     "text": [
      "the distance is: 1.4142135623730951\n"
     ]
    }
   ],
   "source": [
    "def euclideanDistance(instance1, instance2, length):\n",
    "   distance = 0\n",
    "   for x in range(length):\n",
    "         #print ('x is ' , x)\n",
    "         num1=float(instance1[x]) #type casting from the string they are saved as, to numbers.\n",
    "         num2=float(instance2[x])\n",
    "         distance += pow(num1-num2, 2)\n",
    "   return math.sqrt(distance)\n",
    "print(\"the distance is:\", euclideanDistance(data1, data2, 3))"
   ]
  },
  {
   "cell_type": "code",
   "execution_count": 14,
   "id": "9d6e075c",
   "metadata": {},
   "outputs": [
    {
     "name": "stdout",
     "output_type": "stream",
     "text": [
      "The vector ['0', '1', '2', 'A']\n",
      "The vector ['1', '5', '6', 'A']\n"
     ]
    }
   ],
   "source": [
    "with open('/Users/orejoke/Downloads/myFile.csv', 'r') as myCsvfile:\n",
    "    lines = csv.reader(myCsvfile)\n",
    "    dataWithHeader = list(lines)\n",
    "\n",
    "#put data in dataset without header line\n",
    "dataset = dataWithHeader[1:]\n",
    "\n",
    "print(\"The vector {}\".format(dataset[0]))\n",
    "print(\"The vector {}\".format(dataset[1]))"
   ]
  },
  {
   "cell_type": "code",
   "execution_count": 15,
   "id": "9b085be4",
   "metadata": {},
   "outputs": [
    {
     "name": "stdout",
     "output_type": "stream",
     "text": [
      "the distance is: 5.744562646538029\n"
     ]
    }
   ],
   "source": [
    "print(\"the distance is:\", euclideanDistance(dataset[0], dataset[1], 3))"
   ]
  },
  {
   "cell_type": "code",
   "execution_count": 16,
   "id": "ce772d0f",
   "metadata": {},
   "outputs": [],
   "source": [
    "class distClass:\n",
    "    dist = -1 #distance of current point from test point\n",
    "    tag = '-' #tag of current point"
   ]
  },
  {
   "cell_type": "code",
   "execution_count": 22,
   "id": "b6430ee1",
   "metadata": {},
   "outputs": [
    {
     "name": "stdout",
     "output_type": "stream",
     "text": [
      "A\n"
     ]
    }
   ],
   "source": [
    "d1 = distClass()\n",
    "d1.dist = euclideanDistance(dataset[0], dataset[1], 3)\n",
    "d1.tag = dataset[1][3]\n",
    "print(d1.tag)"
   ]
  },
  {
   "cell_type": "code",
   "execution_count": 49,
   "id": "8ce90085",
   "metadata": {},
   "outputs": [
    {
     "name": "stdout",
     "output_type": "stream",
     "text": [
      "2.449489742783178 , A\n",
      "3.0 , A\n",
      "4.123105625617661 , A\n",
      "7.810249675906654 , A\n",
      "7.810249675906654 , A\n",
      "20.049937655763422 , B\n",
      "22.11334438749598 , B\n",
      "23.108440016582687 , B\n",
      "24.1039415863879 , B\n",
      "40.01249804748511 , B\n"
     ]
    }
   ],
   "source": [
    "distList = []\n",
    "for vector in dataset:\n",
    "    temp = distClass()\n",
    "    temp.dist = euclideanDistance(point, vector, 3)\n",
    "    temp.tag = vector[3]\n",
    "    distList.append(temp)\n",
    "    \n",
    "distList.sort(key=lambda x: x.dist) \n",
    "\n",
    "for element in distList:\n",
    "    print(element.dist, \",\", element.tag)\n"
   ]
  },
  {
   "cell_type": "code",
   "execution_count": 51,
   "id": "a545fd02",
   "metadata": {},
   "outputs": [
    {
     "name": "stdout",
     "output_type": "stream",
     "text": [
      "[1, 0, 0, 'A']\n"
     ]
    }
   ],
   "source": [
    "point[3] = distList[0].tag\n",
    "print(point)"
   ]
  },
  {
   "cell_type": "code",
   "execution_count": 56,
   "id": "2b8c7009",
   "metadata": {},
   "outputs": [
    {
     "name": "stdout",
     "output_type": "stream",
     "text": [
      "[1, 0, 0, 'M']\n"
     ]
    }
   ],
   "source": [
    "with open('/Users/orejoke/Downloads/mytrain.csv', 'r') as myCsvfile:\n",
    "    lines = csv.reader(myCsvfile)\n",
    "    dataWithHeader = list(lines)\n",
    "\n",
    "#put data in dataset without header line\n",
    "dataset = dataWithHeader[1:]\n",
    "distList = []\n",
    "for vector in dataset:\n",
    "    temp = distClass()\n",
    "    temp.dist = euclideanDistance(point, vector, 3)\n",
    "    temp.tag = vector[-1]\n",
    "    distList.append(temp)\n",
    "    \n",
    "distList.sort(key=lambda x: x.dist) \n",
    "\n",
    "# for element in distList:\n",
    "#     print(element.dist, \",\", element.tag)\n",
    "    \n",
    "point[3] = distList[-1].tag\n",
    "print(point)"
   ]
  },
  {
   "cell_type": "code",
   "execution_count": null,
   "id": "ba1d7726",
   "metadata": {},
   "outputs": [],
   "source": [
    "#The distance added and the calculation should be new each append of line."
   ]
  }
 ],
 "metadata": {
  "kernelspec": {
   "display_name": "Python 3 (ipykernel)",
   "language": "python",
   "name": "python3"
  },
  "language_info": {
   "codemirror_mode": {
    "name": "ipython",
    "version": 3
   },
   "file_extension": ".py",
   "mimetype": "text/x-python",
   "name": "python",
   "nbconvert_exporter": "python",
   "pygments_lexer": "ipython3",
   "version": "3.9.7"
  }
 },
 "nbformat": 4,
 "nbformat_minor": 5
}
