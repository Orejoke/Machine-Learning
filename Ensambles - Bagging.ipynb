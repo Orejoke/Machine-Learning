{
 "cells": [
  {
   "cell_type": "code",
   "execution_count": 12,
   "id": "d7ddff78",
   "metadata": {},
   "outputs": [],
   "source": [
    "import numpy as np\n",
    "import pandas as pd\n",
    "from sklearn.naive_bayes import GaussianNB\n",
    "from sklearn.preprocessing import LabelEncoder\n",
    "from sklearn.model_selection import train_test_split\n",
    "from sklearn.metrics import accuracy_score\n",
    "trainData = pd.read_csv(\"./titanikData.csv\")\n",
    "testData = pd.read_csv(\"./titanikTest.csv\", names=[\"pclass\", \"age\", \"gender\", \"survived\"])"
   ]
  },
  {
   "cell_type": "code",
   "execution_count": 13,
   "id": "2b7e7a83",
   "metadata": {},
   "outputs": [
    {
     "data": {
      "text/html": [
       "<div>\n",
       "<style scoped>\n",
       "    .dataframe tbody tr th:only-of-type {\n",
       "        vertical-align: middle;\n",
       "    }\n",
       "\n",
       "    .dataframe tbody tr th {\n",
       "        vertical-align: top;\n",
       "    }\n",
       "\n",
       "    .dataframe thead th {\n",
       "        text-align: right;\n",
       "    }\n",
       "</style>\n",
       "<table border=\"1\" class=\"dataframe\">\n",
       "  <thead>\n",
       "    <tr style=\"text-align: right;\">\n",
       "      <th></th>\n",
       "      <th>pclass</th>\n",
       "      <th>age</th>\n",
       "      <th>gender</th>\n",
       "      <th>survived</th>\n",
       "    </tr>\n",
       "  </thead>\n",
       "  <tbody>\n",
       "    <tr>\n",
       "      <th>0</th>\n",
       "      <td>0</td>\n",
       "      <td>0</td>\n",
       "      <td>1</td>\n",
       "      <td>1</td>\n",
       "    </tr>\n",
       "    <tr>\n",
       "      <th>1</th>\n",
       "      <td>0</td>\n",
       "      <td>0</td>\n",
       "      <td>1</td>\n",
       "      <td>1</td>\n",
       "    </tr>\n",
       "    <tr>\n",
       "      <th>2</th>\n",
       "      <td>0</td>\n",
       "      <td>0</td>\n",
       "      <td>1</td>\n",
       "      <td>1</td>\n",
       "    </tr>\n",
       "    <tr>\n",
       "      <th>3</th>\n",
       "      <td>0</td>\n",
       "      <td>0</td>\n",
       "      <td>1</td>\n",
       "      <td>1</td>\n",
       "    </tr>\n",
       "    <tr>\n",
       "      <th>4</th>\n",
       "      <td>0</td>\n",
       "      <td>0</td>\n",
       "      <td>1</td>\n",
       "      <td>1</td>\n",
       "    </tr>\n",
       "  </tbody>\n",
       "</table>\n",
       "</div>"
      ],
      "text/plain": [
       "   pclass  age  gender  survived\n",
       "0       0    0       1         1\n",
       "1       0    0       1         1\n",
       "2       0    0       1         1\n",
       "3       0    0       1         1\n",
       "4       0    0       1         1"
      ]
     },
     "execution_count": 13,
     "metadata": {},
     "output_type": "execute_result"
    }
   ],
   "source": [
    "number = LabelEncoder()\n",
    "trainData['survived'] = number.fit_transform(trainData['survived'])\n",
    "trainData['gender'] = number.fit_transform(trainData['gender'])\n",
    "trainData['age'] = number.fit_transform(trainData['age'])\n",
    "trainData['pclass'] = number.fit_transform(trainData['pclass'])\n",
    "trainData.head()"
   ]
  },
  {
   "cell_type": "code",
   "execution_count": 15,
   "id": "5e5805af",
   "metadata": {},
   "outputs": [
    {
     "data": {
      "text/html": [
       "<div>\n",
       "<style scoped>\n",
       "    .dataframe tbody tr th:only-of-type {\n",
       "        vertical-align: middle;\n",
       "    }\n",
       "\n",
       "    .dataframe tbody tr th {\n",
       "        vertical-align: top;\n",
       "    }\n",
       "\n",
       "    .dataframe thead th {\n",
       "        text-align: right;\n",
       "    }\n",
       "</style>\n",
       "<table border=\"1\" class=\"dataframe\">\n",
       "  <thead>\n",
       "    <tr style=\"text-align: right;\">\n",
       "      <th></th>\n",
       "      <th>pclass</th>\n",
       "      <th>age</th>\n",
       "      <th>gender</th>\n",
       "      <th>survived</th>\n",
       "    </tr>\n",
       "  </thead>\n",
       "  <tbody>\n",
       "    <tr>\n",
       "      <th>0</th>\n",
       "      <td>0</td>\n",
       "      <td>0</td>\n",
       "      <td>1</td>\n",
       "      <td>1</td>\n",
       "    </tr>\n",
       "    <tr>\n",
       "      <th>1</th>\n",
       "      <td>0</td>\n",
       "      <td>0</td>\n",
       "      <td>1</td>\n",
       "      <td>1</td>\n",
       "    </tr>\n",
       "    <tr>\n",
       "      <th>2</th>\n",
       "      <td>0</td>\n",
       "      <td>0</td>\n",
       "      <td>1</td>\n",
       "      <td>1</td>\n",
       "    </tr>\n",
       "    <tr>\n",
       "      <th>3</th>\n",
       "      <td>0</td>\n",
       "      <td>0</td>\n",
       "      <td>1</td>\n",
       "      <td>1</td>\n",
       "    </tr>\n",
       "    <tr>\n",
       "      <th>4</th>\n",
       "      <td>0</td>\n",
       "      <td>0</td>\n",
       "      <td>1</td>\n",
       "      <td>1</td>\n",
       "    </tr>\n",
       "  </tbody>\n",
       "</table>\n",
       "</div>"
      ],
      "text/plain": [
       "   pclass  age  gender  survived\n",
       "0       0    0       1         1\n",
       "1       0    0       1         1\n",
       "2       0    0       1         1\n",
       "3       0    0       1         1\n",
       "4       0    0       1         1"
      ]
     },
     "execution_count": 15,
     "metadata": {},
     "output_type": "execute_result"
    }
   ],
   "source": [
    "testData['survived'] = number.fit_transform(testData['survived'])\n",
    "testData['gender'] = number.fit_transform(testData['gender'])\n",
    "testData['age'] = number.fit_transform(testData['age'])\n",
    "testData['pclass'] = number.fit_transform(testData['pclass'])\n",
    "testData.head()"
   ]
  },
  {
   "cell_type": "code",
   "execution_count": 16,
   "id": "c2fdf043",
   "metadata": {},
   "outputs": [],
   "source": [
    "trees = 100 #Initialize\n",
    "tree_models = []\n",
    "algorithm_samples = []"
   ]
  },
  {
   "cell_type": "code",
   "execution_count": 17,
   "id": "2868cb6b",
   "metadata": {},
   "outputs": [],
   "source": [
    "unique_rows = trainData.drop_duplicates()\n",
    "for i in range(trees):\n",
    "    samples = unique_rows.sample(frac = 0.65)\n",
    "    complementary_size = len(trainData) - len(samples)\n",
    "    complement = samples.sample(n = complementary_size, replace = True)\n",
    "    algorithm_samples.append(pd.concat([samples, complement]))\n"
   ]
  },
  {
   "cell_type": "code",
   "execution_count": 19,
   "id": "82863278",
   "metadata": {},
   "outputs": [],
   "source": [
    "from sklearn.tree import DecisionTreeClassifier\n",
    "for temp in range(trees): # training the model by 'survived'\n",
    "    features_train = algorithm_samples[temp].drop(['survived'], axis = 1)\n",
    "    target_train = algorithm_samples[temp]['survived'].where(algorithm_samples[temp]['survived'] == 1, 0)\n",
    "    tree_model = DecisionTreeClassifier(criterion = \"entropy\", max_depth = 1)\n",
    "    model = tree_model.fit(features_train, target_train)\n",
    "    tree_models.append(model)"
   ]
  },
  {
   "cell_type": "code",
   "execution_count": 22,
   "id": "1fc28d63",
   "metadata": {},
   "outputs": [
    {
     "data": {
      "text/plain": [
       "array([[1, 1, 1, ..., 1, 1, 1],\n",
       "       [1, 1, 1, ..., 0, 0, 0],\n",
       "       [0, 0, 0, ..., 0, 0, 0],\n",
       "       ...,\n",
       "       [0, 0, 0, ..., 0, 0, 0],\n",
       "       [1, 1, 1, ..., 0, 0, 0],\n",
       "       [0, 0, 0, ..., 0, 0, 0]])"
      ]
     },
     "execution_count": 22,
     "metadata": {},
     "output_type": "execute_result"
    }
   ],
   "source": [
    "# predicting the model by 'survived'\n",
    "predictions = []\n",
    "for i, model in enumerate(tree_models):\n",
    "    predictions.append(model.predict(testData.drop(['survived'], axis=1)))\n",
    "pred_matrix = np.array(predictions)\n",
    "pred_matrix"
   ]
  },
  {
   "cell_type": "code",
   "execution_count": 30,
   "id": "b6e3e6fb",
   "metadata": {},
   "outputs": [
    {
     "name": "stdout",
     "output_type": "stream",
     "text": [
      "Success rates are -  92.42424242424242 %\n"
     ]
    }
   ],
   "source": [
    "u, c = np.unique(pred_matrix, return_counts=True)\n",
    "result = u[c.argmax()]\n",
    "# checking results\n",
    "testData['predictions'] = result\n",
    "testData['corrects_results'] = (result == testData.survived)\n",
    "correct_results = np.sum(testData['corrects_results'].astype(int))\n",
    "print(\"Success rates are - \", (correct_results / len(testData.predictions)) * 100, \"%\")"
   ]
  },
  {
   "cell_type": "code",
   "execution_count": 31,
   "id": "43e1931e",
   "metadata": {},
   "outputs": [
    {
     "name": "stdout",
     "output_type": "stream",
     "text": [
      "   pclass    age gender survived predictions\n",
      "0     1st  adult   male      yes         yes\n",
      "1     1st  adult   male      yes         yes\n",
      "2     1st  adult   male      yes         yes\n",
      "3     1st  adult   male      yes         yes\n",
      "4     1st  adult   male      yes         yes\n",
      "..    ...    ...    ...      ...         ...\n",
      "61    3rd  adult   male      yes         yes\n",
      "62    3rd  adult   male      yes         yes\n",
      "63    3rd  adult   male      yes         yes\n",
      "64    3rd  adult   male      yes         yes\n",
      "65    3rd  adult   male      yes         yes\n",
      "\n",
      "[66 rows x 5 columns]\n"
     ]
    }
   ],
   "source": [
    "new_test_data = pd.read_csv(\"./titanikTest.csv\", names=[\"pclass\", \"age\", \"gender\", \"survived\"])\n",
    "new_test_data['predictions'] = np.where(testData['predictions'] == 1, 'yes', 'no')\n",
    "print(new_test_data)"
   ]
  }
 ],
 "metadata": {
  "kernelspec": {
   "display_name": "Python 3 (ipykernel)",
   "language": "python",
   "name": "python3"
  },
  "language_info": {
   "codemirror_mode": {
    "name": "ipython",
    "version": 3
   },
   "file_extension": ".py",
   "mimetype": "text/x-python",
   "name": "python",
   "nbconvert_exporter": "python",
   "pygments_lexer": "ipython3",
   "version": "3.9.7"
  }
 },
 "nbformat": 4,
 "nbformat_minor": 5
}
