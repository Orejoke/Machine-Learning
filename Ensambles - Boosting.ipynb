{
 "cells": [
  {
   "cell_type": "code",
   "execution_count": 1,
   "id": "1a3cf41d",
   "metadata": {},
   "outputs": [],
   "source": [
    "import numpy as np\n",
    "import pandas as pd\n",
    "from sklearn.naive_bayes import GaussianNB\n",
    "from sklearn.preprocessing import LabelEncoder\n",
    "from sklearn.model_selection import train_test_split\n",
    "from sklearn.metrics import accuracy_score\n",
    "trainData = pd.read_csv(\"./titanikData.csv\")\n",
    "testData = pd.read_csv(\"./titanikTest.csv\", names=[\"pclass\", \"age\", \"gender\", \"survived\"])"
   ]
  },
  {
   "cell_type": "code",
   "execution_count": 2,
   "id": "3620f860",
   "metadata": {},
   "outputs": [
    {
     "data": {
      "text/html": [
       "<div>\n",
       "<style scoped>\n",
       "    .dataframe tbody tr th:only-of-type {\n",
       "        vertical-align: middle;\n",
       "    }\n",
       "\n",
       "    .dataframe tbody tr th {\n",
       "        vertical-align: top;\n",
       "    }\n",
       "\n",
       "    .dataframe thead th {\n",
       "        text-align: right;\n",
       "    }\n",
       "</style>\n",
       "<table border=\"1\" class=\"dataframe\">\n",
       "  <thead>\n",
       "    <tr style=\"text-align: right;\">\n",
       "      <th></th>\n",
       "      <th>pclass</th>\n",
       "      <th>age</th>\n",
       "      <th>gender</th>\n",
       "      <th>survived</th>\n",
       "    </tr>\n",
       "  </thead>\n",
       "  <tbody>\n",
       "    <tr>\n",
       "      <th>0</th>\n",
       "      <td>0</td>\n",
       "      <td>0</td>\n",
       "      <td>1</td>\n",
       "      <td>1</td>\n",
       "    </tr>\n",
       "    <tr>\n",
       "      <th>1</th>\n",
       "      <td>0</td>\n",
       "      <td>0</td>\n",
       "      <td>1</td>\n",
       "      <td>1</td>\n",
       "    </tr>\n",
       "    <tr>\n",
       "      <th>2</th>\n",
       "      <td>0</td>\n",
       "      <td>0</td>\n",
       "      <td>1</td>\n",
       "      <td>1</td>\n",
       "    </tr>\n",
       "    <tr>\n",
       "      <th>3</th>\n",
       "      <td>0</td>\n",
       "      <td>0</td>\n",
       "      <td>1</td>\n",
       "      <td>1</td>\n",
       "    </tr>\n",
       "    <tr>\n",
       "      <th>4</th>\n",
       "      <td>0</td>\n",
       "      <td>0</td>\n",
       "      <td>1</td>\n",
       "      <td>1</td>\n",
       "    </tr>\n",
       "  </tbody>\n",
       "</table>\n",
       "</div>"
      ],
      "text/plain": [
       "   pclass  age  gender  survived\n",
       "0       0    0       1         1\n",
       "1       0    0       1         1\n",
       "2       0    0       1         1\n",
       "3       0    0       1         1\n",
       "4       0    0       1         1"
      ]
     },
     "execution_count": 2,
     "metadata": {},
     "output_type": "execute_result"
    }
   ],
   "source": [
    "number = LabelEncoder()\n",
    "trainData['survived'] = number.fit_transform(trainData['survived'])\n",
    "trainData['gender'] = number.fit_transform(trainData['gender'])\n",
    "trainData['age'] = number.fit_transform(trainData['age'])\n",
    "trainData['pclass'] = number.fit_transform(trainData['pclass'])\n",
    "trainData.head()"
   ]
  },
  {
   "cell_type": "code",
   "execution_count": 3,
   "id": "5d8d8104",
   "metadata": {},
   "outputs": [
    {
     "data": {
      "text/html": [
       "<div>\n",
       "<style scoped>\n",
       "    .dataframe tbody tr th:only-of-type {\n",
       "        vertical-align: middle;\n",
       "    }\n",
       "\n",
       "    .dataframe tbody tr th {\n",
       "        vertical-align: top;\n",
       "    }\n",
       "\n",
       "    .dataframe thead th {\n",
       "        text-align: right;\n",
       "    }\n",
       "</style>\n",
       "<table border=\"1\" class=\"dataframe\">\n",
       "  <thead>\n",
       "    <tr style=\"text-align: right;\">\n",
       "      <th></th>\n",
       "      <th>pclass</th>\n",
       "      <th>age</th>\n",
       "      <th>gender</th>\n",
       "      <th>survived</th>\n",
       "    </tr>\n",
       "  </thead>\n",
       "  <tbody>\n",
       "    <tr>\n",
       "      <th>0</th>\n",
       "      <td>0</td>\n",
       "      <td>0</td>\n",
       "      <td>1</td>\n",
       "      <td>1</td>\n",
       "    </tr>\n",
       "    <tr>\n",
       "      <th>1</th>\n",
       "      <td>0</td>\n",
       "      <td>0</td>\n",
       "      <td>1</td>\n",
       "      <td>1</td>\n",
       "    </tr>\n",
       "    <tr>\n",
       "      <th>2</th>\n",
       "      <td>0</td>\n",
       "      <td>0</td>\n",
       "      <td>1</td>\n",
       "      <td>1</td>\n",
       "    </tr>\n",
       "    <tr>\n",
       "      <th>3</th>\n",
       "      <td>0</td>\n",
       "      <td>0</td>\n",
       "      <td>1</td>\n",
       "      <td>1</td>\n",
       "    </tr>\n",
       "    <tr>\n",
       "      <th>4</th>\n",
       "      <td>0</td>\n",
       "      <td>0</td>\n",
       "      <td>1</td>\n",
       "      <td>1</td>\n",
       "    </tr>\n",
       "  </tbody>\n",
       "</table>\n",
       "</div>"
      ],
      "text/plain": [
       "   pclass  age  gender  survived\n",
       "0       0    0       1         1\n",
       "1       0    0       1         1\n",
       "2       0    0       1         1\n",
       "3       0    0       1         1\n",
       "4       0    0       1         1"
      ]
     },
     "execution_count": 3,
     "metadata": {},
     "output_type": "execute_result"
    }
   ],
   "source": [
    "testData['survived'] = number.fit_transform(testData['survived'])\n",
    "testData['gender'] = number.fit_transform(testData['gender'])\n",
    "testData['age'] = number.fit_transform(testData['age'])\n",
    "testData['pclass'] = number.fit_transform(testData['pclass'])\n",
    "testData.head()"
   ]
  },
  {
   "cell_type": "code",
   "execution_count": 7,
   "id": "350d056a",
   "metadata": {},
   "outputs": [],
   "source": [
    "rounds = 3 #Initialize\n",
    "models_algorithm = []\n",
    "εt_algorithm = []\n",
    "predictions_algorithm = []"
   ]
  },
  {
   "cell_type": "code",
   "execution_count": 6,
   "id": "93635c1d",
   "metadata": {},
   "outputs": [
    {
     "data": {
      "text/html": [
       "<div>\n",
       "<style scoped>\n",
       "    .dataframe tbody tr th:only-of-type {\n",
       "        vertical-align: middle;\n",
       "    }\n",
       "\n",
       "    .dataframe tbody tr th {\n",
       "        vertical-align: top;\n",
       "    }\n",
       "\n",
       "    .dataframe thead th {\n",
       "        text-align: right;\n",
       "    }\n",
       "</style>\n",
       "<table border=\"1\" class=\"dataframe\">\n",
       "  <thead>\n",
       "    <tr style=\"text-align: right;\">\n",
       "      <th></th>\n",
       "      <th>weight</th>\n",
       "    </tr>\n",
       "  </thead>\n",
       "  <tbody>\n",
       "    <tr>\n",
       "      <th>0</th>\n",
       "      <td>0.000465</td>\n",
       "    </tr>\n",
       "    <tr>\n",
       "      <th>1</th>\n",
       "      <td>0.000465</td>\n",
       "    </tr>\n",
       "    <tr>\n",
       "      <th>2</th>\n",
       "      <td>0.000465</td>\n",
       "    </tr>\n",
       "    <tr>\n",
       "      <th>3</th>\n",
       "      <td>0.000465</td>\n",
       "    </tr>\n",
       "    <tr>\n",
       "      <th>4</th>\n",
       "      <td>0.000465</td>\n",
       "    </tr>\n",
       "    <tr>\n",
       "      <th>...</th>\n",
       "      <td>...</td>\n",
       "    </tr>\n",
       "    <tr>\n",
       "      <th>2145</th>\n",
       "      <td>0.000465</td>\n",
       "    </tr>\n",
       "    <tr>\n",
       "      <th>2146</th>\n",
       "      <td>0.000465</td>\n",
       "    </tr>\n",
       "    <tr>\n",
       "      <th>2147</th>\n",
       "      <td>0.000465</td>\n",
       "    </tr>\n",
       "    <tr>\n",
       "      <th>2148</th>\n",
       "      <td>0.000465</td>\n",
       "    </tr>\n",
       "    <tr>\n",
       "      <th>2149</th>\n",
       "      <td>0.000465</td>\n",
       "    </tr>\n",
       "  </tbody>\n",
       "</table>\n",
       "<p>2150 rows × 1 columns</p>\n",
       "</div>"
      ],
      "text/plain": [
       "        weight\n",
       "0     0.000465\n",
       "1     0.000465\n",
       "2     0.000465\n",
       "3     0.000465\n",
       "4     0.000465\n",
       "...        ...\n",
       "2145  0.000465\n",
       "2146  0.000465\n",
       "2147  0.000465\n",
       "2148  0.000465\n",
       "2149  0.000465\n",
       "\n",
       "[2150 rows x 1 columns]"
      ]
     },
     "execution_count": 6,
     "metadata": {},
     "output_type": "execute_result"
    }
   ],
   "source": [
    "weights_data = pd.DataFrame(trainData.survived.copy())\n",
    "weights_data['weight'] = 1/len(trainData)\n",
    "weights_data.drop('survived', axis=1)"
   ]
  },
  {
   "cell_type": "code",
   "execution_count": 11,
   "id": "3092926b",
   "metadata": {},
   "outputs": [],
   "source": [
    "from sklearn.tree import DecisionTreeClassifier\n",
    "for temp in range(0, rounds):\n",
    "    features_train = trainData.drop(['survived'], axis = 1)\n",
    "    target_train = trainData['survived'].where(trainData['survived'] == 1, 0)\n",
    "    tree_model = DecisionTreeClassifier(criterion = \"entropy\", max_depth = 2)\n",
    "    model = tree_model.fit(features_train, target_train, sample_weight=np.array(weights_data['weight']))\n",
    "    models_algorithm.append(model)\n",
    "    weights_data['hypothesis'] = model.predict(features_train)\n",
    "    weights_data['is_hypothesis_incorrect'] = np.where(weights_data['hypothesis'] != trainData['survived'], 1, 0)\n",
    "        \n",
    "    epsilonT = np.sum(weights_data['weight'] * weights_data['is_hypothesis_incorrect'])\n",
    "    if epsilonT > 0.5:\n",
    "        continue\n",
    "\n",
    "    betaT = np.log(1 / (epsilonT / (1 - epsilonT)))/2\n",
    "    εt_algorithm.append(betaT)\n",
    "\n",
    "    # recalculate weights \n",
    "    weights_data['weight'] *= np.exp(betaT * weights_data['is_hypothesis_incorrect'])\n",
    "\n",
    "    # rescale weights\n",
    "    weights_data['weight'].div(weights_data['weight'].sum())"
   ]
  },
  {
   "cell_type": "code",
   "execution_count": 12,
   "id": "2a8d977a",
   "metadata": {},
   "outputs": [],
   "source": [
    "X_test = testData.drop(['survived'], axis=1).reindex(range(len(testData)))\n",
    "temp = []\n",
    "\n",
    "for error, model in zip(εt_algorithm, models_algorithm):\n",
    "    temp.append(error * model.predict(X_test))\n",
    "predictions_algorithm = np.sign(np.sum(np.array(temp), axis=0))"
   ]
  },
  {
   "cell_type": "code",
   "execution_count": 15,
   "id": "394fa323",
   "metadata": {},
   "outputs": [
    {
     "name": "stdout",
     "output_type": "stream",
     "text": [
      "Success:  75.75757575757575 %\n"
     ]
    }
   ],
   "source": [
    "testData['prediction'] = predictions_algorithm\n",
    "testData['corrects_rows'] = (predictions_algorithm == testData.survived)\n",
    "corrects_rows = np.sum(testData['corrects_rows'].astype(int))\n",
    "print(\"Success: \",corrects_rows * 100 / len(testData.prediction),\"%\")"
   ]
  },
  {
   "cell_type": "code",
   "execution_count": 17,
   "id": "727eb49d",
   "metadata": {},
   "outputs": [
    {
     "name": "stdout",
     "output_type": "stream",
     "text": [
      "   pclass    age gender survived prediction\n",
      "0     1st  adult   male      yes        yes\n",
      "1     1st  adult   male      yes        yes\n",
      "2     1st  adult   male      yes        yes\n",
      "3     1st  adult   male      yes        yes\n",
      "4     1st  adult   male      yes        yes\n",
      "..    ...    ...    ...      ...        ...\n",
      "61    3rd  adult   male      yes         no\n",
      "62    3rd  adult   male      yes         no\n",
      "63    3rd  adult   male      yes         no\n",
      "64    3rd  adult   male      yes         no\n",
      "65    3rd  adult   male      yes         no\n",
      "\n",
      "[66 rows x 5 columns]\n"
     ]
    }
   ],
   "source": [
    "new_test_data = pd.read_csv(\"./titanikTest.csv\", names=[\"pclass\", \"age\", \"gender\", \"survived\"])\n",
    "new_test_data['prediction'] = np.where(testData['prediction'] == 1, 'yes', 'no')\n",
    "print(new_test_data)"
   ]
  }
 ],
 "metadata": {
  "kernelspec": {
   "display_name": "Python 3 (ipykernel)",
   "language": "python",
   "name": "python3"
  },
  "language_info": {
   "codemirror_mode": {
    "name": "ipython",
    "version": 3
   },
   "file_extension": ".py",
   "mimetype": "text/x-python",
   "name": "python",
   "nbconvert_exporter": "python",
   "pygments_lexer": "ipython3",
   "version": "3.9.7"
  }
 },
 "nbformat": 4,
 "nbformat_minor": 5
}
